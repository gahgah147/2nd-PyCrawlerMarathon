{
 "cells": [
  {
   "cell_type": "markdown",
   "metadata": {},
   "source": [
    "# 空氣污染監測網 網路爬蟲實作練習\n",
    "\n",
    "\n",
    "* 能夠利用 selenium + BeautifulSoup 撰寫爬蟲，並存放到合適的資料結構\n"
   ]
  },
  {
   "cell_type": "markdown",
   "metadata": {},
   "source": [
    "## 作業目標\n",
    "\n",
    "根據範例 ，完成以下問題：\n",
    "\n",
    "* ① 取出 台北市士林區 2018/01 – 2018/08 的 SO2 資料\n",
    "* ② 取出 台北市士林區 2018/01 – 2018/08 的 SO2、CO 資料\n",
    "\n",
    "\n",
    "\n"
   ]
  },
  {
   "cell_type": "markdown",
   "metadata": {},
   "source": [
    "### ① 取出 台北市士林區 2018/01 – 2018/08 的 SO2 資料"
   ]
  },
  {
   "cell_type": "code",
   "execution_count": 2,
   "metadata": {},
   "outputs": [
    {
     "data": {
      "text/plain": [
       "<div class=\"info\">\n",
       "<div class=\"date\">2020/04/19 11:00<h4>高雄市/小港<span>一般站</span></h4></div>\n",
       "<div data-aqi=\"39\" id=\"aqicircle\" style=\"border-color: rgb(0, 153, 102);\">\n",
       "<div>\n",
       "                                            空氣品質指標AQI\n",
       "                                                <b class=\"aquval\">39</b>\n",
       "<span class=\"aqitxt\">良好</span>\n",
       "</div>\n",
       "</div>\n",
       "<ul class=\"allif\">\n",
       "<li class=\"\">\n",
       "<b>PM<sub>2.5</sub><br/>\n",
       "<span>(μg/m<sup>3</sup>)</span>細懸浮微粒</b>\n",
       "<ul>\n",
       "<li class=\"\">\n",
       "<b>移動平均</b>\n",
       "<span id=\"AVPM25\">12</span>\n",
       "</li>\n",
       "<li class=\"\">\n",
       "<b>小時濃度</b>\n",
       "<span id=\"PM25\">13</span>\n",
       "</li>\n",
       "</ul>\n",
       "</li>\n",
       "<li class=\"\">\n",
       "<b>PM<sub>10</sub><span>(μg/m<sup>3</sup>)</span>懸浮微粒</b>\n",
       "<ul>\n",
       "<li class=\"\">\n",
       "<b>移動平均</b>\n",
       "<span id=\"AVPM10\">30</span>\n",
       "</li>\n",
       "<li class=\"\">\n",
       "<b>小時濃度</b>\n",
       "<span id=\"PM10\">38</span>\n",
       "</li>\n",
       "</ul>\n",
       "</li>\n",
       "<li class=\"\">\n",
       "<b>O<sub>3</sub><span>(ppb)</span>臭氧</b>\n",
       "<ul>\n",
       "<li class=\"\">\n",
       "<b>8小時移動平均</b>\n",
       "<span id=\"AVO3\">16</span>\n",
       "</li>\n",
       "<li class=\"\">\n",
       "<b>小時濃度</b>\n",
       "<span id=\"O3\">17</span>\n",
       "</li>\n",
       "</ul>\n",
       "</li>\n",
       "<li class=\"\">\n",
       "<b>CO<span>(ppm)</span>一氧化碳</b>\n",
       "<ul>\n",
       "<li class=\"\">\n",
       "<b>8小時移動平均</b>\n",
       "<span id=\"AVCO\">0.30</span>\n",
       "</li>\n",
       "<li class=\"\">\n",
       "<b>小時濃度</b>\n",
       "<span id=\"CO\">0.21</span>\n",
       "</li>\n",
       "</ul>\n",
       "</li>\n",
       "<li class=\"\">\n",
       "<b>SO<sub>2</sub><span class=\"inline\">(ppb)</span><span></span>二氧化硫</b>\n",
       "<ul>\n",
       "<li class=\"\">\n",
       "<b>小時濃度</b>\n",
       "<span id=\"SO2\">2.9</span>\n",
       "</li>\n",
       "</ul>\n",
       "</li>\n",
       "<li class=\"\">\n",
       "<b>NO<sub>2</sub><span class=\"inline\">(ppb)</span><span></span>二氧化氮</b>\n",
       "<ul>\n",
       "<li class=\"\">\n",
       "<b>小時濃度</b>\n",
       "<span id=\"NO2\">13.9</span>\n",
       "</li>\n",
       "</ul>\n",
       "</li>\n",
       "</ul>\n",
       "</div>"
      ]
     },
     "execution_count": 2,
     "metadata": {},
     "output_type": "execute_result"
    }
   ],
   "source": [
    "# 打開瀏覽器\n",
    "\n",
    "from selenium import webdriver\n",
    "from selenium.webdriver.support.ui import Select\n",
    "from bs4 import BeautifulSoup\n",
    "\n",
    "browser = webdriver.Chrome(executable_path='chromedriver')\n",
    "browser.get(\"https://airtw.epa.gov.tw/\")\n",
    "#  改版了\n",
    "selectSite = Select(browser.find_element_by_id(\"ddl_county\"))\n",
    "#選縣市\n",
    "selectSite.select_by_value('Kaohsiung')\n",
    "#高雄\n",
    "selectYear = Select(browser.find_element_by_id(\"ddl_site\"))\n",
    "selectYear.select_by_value('10')\n",
    "#小港\n",
    "# 取得資料（等瀏覽器資料出現後才執行）\n",
    "html_source = browser.page_source\n",
    "html_source\n",
    "soup = BeautifulSoup(html_source, 'html.parser')\n",
    "info = soup.find('div', class_='info')\n",
    "info\n"
   ]
  },
  {
   "cell_type": "markdown",
   "metadata": {},
   "source": [
    "### ② 取出 台北市士林區 2018/01 – 2018/08 的 SO2、CO 資料"
   ]
  },
  {
   "cell_type": "code",
   "execution_count": null,
   "metadata": {},
   "outputs": [],
   "source": [
    "# 打開瀏覽器\n",
    "\n",
    "from selenium import webdriver\n",
    "from selenium.webdriver.support.ui import Select\n",
    "from bs4 import BeautifulSoup\n",
    "\n",
    "browser = webdriver.Chrome(executable_path='chromedriver')\n",
    "browser.get(\"https://airtw.epa.gov.tw/\")\n",
    "#  改版了\n",
    "selectSite = Select(browser.find_element_by_id(\"ddl_county\"))\n",
    "#選縣市\n",
    "selectSite.select_by_value('Kaohsiung')\n",
    "#高雄\n",
    "selectYear = Select(browser.find_element_by_id(\"ddl_site\"))\n",
    "selectYear.select_by_value('10')\n",
    "#小港\n",
    "# 取得資料（等瀏覽器資料出現後才執行）\n",
    "html_source = browser.page_source\n",
    "html_source\n",
    "soup = BeautifulSoup(html_source, 'html.parser')\n",
    "info = soup.find('div', class_='info')\n",
    "info\n"
   ]
  },
  {
   "cell_type": "code",
   "execution_count": null,
   "metadata": {},
   "outputs": [],
   "source": []
  }
 ],
 "metadata": {
  "kernelspec": {
   "display_name": "Python 3",
   "language": "python",
   "name": "python3"
  },
  "language_info": {
   "codemirror_mode": {
    "name": "ipython",
    "version": 3
   },
   "file_extension": ".py",
   "mimetype": "text/x-python",
   "name": "python",
   "nbconvert_exporter": "python",
   "pygments_lexer": "ipython3",
   "version": "3.7.4"
  }
 },
 "nbformat": 4,
 "nbformat_minor": 2
}
