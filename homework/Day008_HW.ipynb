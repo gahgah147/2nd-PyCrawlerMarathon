{
 "cells": [
  {
   "cell_type": "markdown",
   "metadata": {},
   "source": [
    "# 靜態網頁的資料爬蟲策略\n",
    "\n",
    "\n",
    "* 了解靜態網頁的資料爬蟲策略\n",
    "* 認識適用於靜態網頁爬蟲的相關套件工具：Request\n",
    "* 認識適用於靜態網頁爬蟲的相關套件工具：BeatifulSoup"
   ]
  },
  {
   "cell_type": "markdown",
   "metadata": {},
   "source": [
    "## 作業目標\n",
    "\n",
    "利用 Request + BeatifulSoup 爬取下列兩個網站內容並解析：\n",
    "\n",
    "1. Dcared 網址： https://www.dcard.tw/f\n",
    "2. 知乎： https://www.zhihu.com/explore\n",
    "\n",
    "並且回答下面問題：\n",
    "\n",
    "1. Request 取回之後該怎麼取出資料，資料型態是什麼？\n",
    "2. 為什麼要使用 BeatifulSoup 處理？處理後的型態是什麼？\n",
    "3. 觀察一下知乎回來的資料好像有點怪怪的，該怎麼解決？"
   ]
  },
  {
   "cell_type": "markdown",
   "metadata": {},
   "source": [
    "### 1. Dcard 網址： https://www.dcard.tw/f"
   ]
  },
  {
   "cell_type": "code",
   "execution_count": 3,
   "metadata": {},
   "outputs": [],
   "source": [
    "import requests\n",
    "from bs4 import BeautifulSoup\n"
   ]
  },
  {
   "cell_type": "code",
   "execution_count": 17,
   "metadata": {
    "scrolled": true
   },
   "outputs": [
    {
     "name": "stdout",
     "output_type": "stream",
     "text": [
      "<!DOCTYPE html><html lang=\"zh-TW\"><head prefix=\"og: http://ogp.me/ns#\" itemscope=\"\" itemType=\"https://schema.org/WebSite\"><meta charSet=\"utf-8\"/><meta http-equiv=\"X-UA-Compatible\" content=\"IE=edge\"/><meta name=\"viewport\" content=\"width=device-width, initial-scale=1, minimum-scale=1\"/><meta name=\"apple-mobile-web-app-status-bar-style\" content=\"default\"/><link rel=\"stylesheet\" type=\"text/css\" href=\"https://fonts.googleapis.com/css?family=Roboto:400,300\"/><meta name=\"application-name\" content=\"Dcard\"/><meta name=\"apple-itunes-app\" content=\"app-id=951353454\"/><meta name=\"theme-color\" content=\"#006aa6\"/><meta name=\"mobile-web-app-capable\" content=\"yes\"/><meta name=\"apple-mobile-web-app-capable\" content=\"yes\"/><meta name=\"supported-color-schemes\" content=\"light\"/><meta property=\"fb:app_id\" content=\"211628828926493\"/><meta property=\"fb:pages\" content=\"178875832200695,577748865730563,1333515469994506,619122564952487,804004803032067,178024805867764\"/><meta property=\"al:ios:app_store_id\" content=\"951353454\"/><meta property=\"al:ios:app_name\" content=\"Dcard\"/><meta property=\"al:android:package\" content=\"com.sparkslab.dcardreader\"/><meta property=\"al:android:app_name\" content=\"Dcard\"/><link rel=\"manifest\" href=\"/_next/static/manifest.json\"/><link rel=\"icon\" type=\"image/png\" sizes=\"16x16\" href=\"/_next/static/images/icon-16-1daa7474e5fe761a7239d12c56b88680.png\"/><link rel=\"icon\" type=\"image/png\" sizes=\"24x24\" href=\"/_next/static/images/icon-24-7bfd8a52a6756e15edaa617b106a5c55.png\"/><link rel=\"icon\" type=\"image/png\" sizes=\"32x32\" href=\"/_next/static/images/icon-32-54392e6e864b1f822d54a543ee54a0f9.png\"/><link rel=\"icon\" type=\"image/png\" sizes=\"192x192\" href=\"/_next/static/images/icon-192-49149beb434e1f6bccac918f6608564c.png\"/><link rel=\"apple-touch-icon\" type=\"image/png\" sizes=\"57x57\" href=\"/_next/static/images/icon-57-c95fcd930b41dbc6de0495348939582f.png\"/><link rel=\"apple-touch-icon\" type=\"image/png\" sizes=\"72x72\" href=\"/_next/static/images/icon-72-69b64cb9aadc811dce34ea6ac772cd8f.png\"/><link rel=\"apple-touch-icon\" type=\"image/png\" sizes=\"76x76\" href=\"/_next/static/images/icon-76-67203a784694f8378d2f51f24970e2f7.png\"/><link rel=\"apple-touch-icon\" type=\"image/png\" sizes=\"114x114\" href=\"/_next/static/images/icon-114-c58f911deb58868e8cc68ea1e09cc688.png\"/><link rel=\"apple-touch-icon\" type=\"image/png\" sizes=\"120x120\" href=\"/_next/static/images/icon-120-f3ada61716c0cc460c2cbe72b18fb9b4.png\"/><link rel=\"apple-touch-icon\" type=\"image/png\" sizes=\"144x144\" href=\"/_next/static/images/icon-144-679d873aa4b58f1117915545d3fdfa1d.png\"/><link rel=\"apple-touch-icon\" type=\"image/png\" sizes=\"152x152\" href=\"/_next/static/images/icon-152-b7ec982f1f49f590c97611e0e5e9f7f3.png\"/><link rel=\"apple-touch-icon\" type=\"image/png\" sizes=\"180x180\" href=\"/_next/static/images/icon-180-2665760e1b88b5af7a3cfbdc532bae20.png\"/><link rel=\"shortcut icon\" type=\"image/png\" href=\"/_next/static/images/icon-32-54392e6e864b1f822d54a543ee54a0f9.png\"/><script>(function(w,d,s,l,i){w[l]=w[l]||[];w[l].push({'gt\n"
     ]
    }
   ],
   "source": [
    "url = 'https://www.dcard.tw/f'\n",
    "\n",
    "r = requests.get(url)\n",
    "\n",
    "r.encoding = 'utf-8'\n",
    "print(r.text[0:3000])"
   ]
  },
  {
   "cell_type": "code",
   "execution_count": 31,
   "metadata": {
    "scrolled": true
   },
   "outputs": [
    {
     "name": "stdout",
     "output_type": "stream",
     "text": [
      "<class 'str'>\n"
     ]
    }
   ],
   "source": [
    "print(type(r.text[0:3000]))\n"
   ]
  },
  {
   "cell_type": "code",
   "execution_count": 40,
   "metadata": {},
   "outputs": [
    {
     "name": "stdout",
     "output_type": "stream",
     "text": [
      "<!DOCTYPE html>\n",
      "<html data-hairline=\"true\" data-theme=\"light\" lang=\"zh\"><head><meta charset=\"utf-8\"/><title data-react-helmet=\"true\">发现 - 知乎</title><meta content=\"width=device-width,initial-scale=1,maximum-scale=1\" name=\"viewport\"/><meta content=\"webkit\" name=\"renderer\"/><meta content=\"webkit\" name=\"force-rendering\"/><meta content=\"IE=edge,chrome=1\" http-equiv=\"X-UA-Compatible\"/><meta content=\"FTeR0c8arOPKh8c5DYh_9uu98_zJbaWw53J-Sch9MTg\" name=\"google-site-verification\"/><meta content=\"有问题，上知乎。知乎，可信赖的问答社区，以让每个人高效获得可信赖的解答为使命。知乎凭借认真、专业和友善的社区氛围，结构化、易获得的优质内容，基于问答的内容生产方式和独特的社区机制，吸引、聚集了各行各业中大量的亲历者、内行人、领域专家、领域爱好者，将高质量的内容透过人的节点来成规模地生产和分享。用户通过问答等交流方式建立信任和连接，打造和提升个人影响力，并发现、获得新机会。\" name=\"description\" property=\"og:description\"/><link data-react-helmet=\"true\" href=\"https://static.zhihu.com/heifetz/assets/apple-touch-icon-152.67c7b278.png\" rel=\"apple-touch-icon\"/><link data-react-helmet=\"true\" href=\"https://static.zhihu.com/heifetz/assets/apple-touch-icon-152.67c7b278.png\" rel=\"apple-touch-icon\" sizes=\"152x152\"/><link data-react-helmet=\"true\" href=\"https://static.zhihu.com/heifetz/assets/apple-touch-icon-120.b3e6278d.png\" rel=\"apple-touch-icon\" sizes=\"120x120\"/><link data-react-helmet=\"true\" href=\"https://static.zhihu.com/heifetz/assets/apple-touch-icon-76.7a750095.png\" rel=\"apple-touch-icon\" sizes=\"76x76\"/><link data-react-helmet=\"true\" href=\"https://static.zhihu.com/heifetz/assets/apple-touch-icon-60.a4a761d4.png\" rel=\"apple-touch-icon\" sizes=\"60x60\"/><link href=\"https://static.zhihu.com/static/favicon.ico\" rel=\"shortcut icon\" type=\"image/x-icon\"/><link href=\"https://static.zhihu.com/static/search.xml\" rel=\"search\" title=\"知乎\" type=\"application/opensearchdescription+xml\"/><link href=\"//static.zhimg.com\" rel=\"dns-prefetch\"/><link href=\"//pic1.zhimg.com\" rel=\"dns-prefetch\"/><link href=\"//pic2.zhimg.com\" rel=\"dns-prefetch\"/><link href=\"//pic3.zhimg.com\" rel=\"dns-prefetch\"/><link href=\"//pic4.zhimg.com\" rel=\"dns-prefetch\"/><style>\n",
      ".u-safeAreaInset-top {\n",
      "  height: constant(safe-area-inset-top) !important;\n",
      "  height: env(safe-area-inset-top) !important;\n",
      "  \n",
      "}\n",
      ".u-safeAreaInset-bottom {\n",
      "  height: constant(safe-area-inset-bottom) !important;\n",
      "  height: env(safe-area-inset-bottom) !important;\n",
      "  \n",
      "}\n",
      "</style><link href=\"https://static.zhihu.com/heifetz/main.app.09497f50a879f1a50dcc.css\" rel=\"stylesheet\"/><link href=\"https://static.zhihu.com/heifetz/main.explore-routes.94f0a5bb58796c6fe662.css\" rel=\"stylesheet\"/></head><body></body></html>\n",
      "<class 'bs4.BeautifulSoup'>\n"
     ]
    }
   ],
   "source": [
    "#print('為什麼要使用 BeatifulSoup 處理？處理後的型態是什麼？ => ')\n",
    "\n",
    "soup = BeautifulSoup(r.text[0:3000], \"html5lib\")\n",
    "print(soup)"
   ]
  },
  {
   "cell_type": "code",
   "execution_count": 34,
   "metadata": {},
   "outputs": [
    {
     "name": "stdout",
     "output_type": "stream",
     "text": [
      "<class 'bs4.BeautifulSoup'>\n"
     ]
    }
   ],
   "source": [
    "print(type(soup))"
   ]
  },
  {
   "cell_type": "markdown",
   "metadata": {},
   "source": [
    "### 2. 知乎： https://www.zhihu.com/explore"
   ]
  },
  {
   "cell_type": "code",
   "execution_count": 41,
   "metadata": {},
   "outputs": [
    {
     "name": "stdout",
     "output_type": "stream",
     "text": [
      "<!doctype html>\n",
      "<html lang=\"zh\" data-hairline=\"true\" data-theme=\"light\"><head><meta charSet=\"utf-8\"/><title data-react-helmet=\"true\">发现 - 知乎</title><meta name=\"viewport\" content=\"width=device-width,initial-scale=1,maximum-scale=1\"/><meta name=\"renderer\" content=\"webkit\"/><meta name=\"force-rendering\" content=\"webkit\"/><meta http-equiv=\"X-UA-Compatible\" content=\"IE=edge,chrome=1\"/><meta name=\"google-site-verification\" content=\"FTeR0c8arOPKh8c5DYh_9uu98_zJbaWw53J-Sch9MTg\"/><meta name=\"description\" property=\"og:description\" content=\"有问题，上知乎。知乎，可信赖的问答社区，以让每个人高效获得可信赖的解答为使命。知乎凭借认真、专业和友善的社区氛围，结构化、易获得的\n",
      "<!DOCTYPE html>\n",
      "<html data-hairline=\"true\" data-theme=\"light\" lang=\"zh\"><head><meta charset=\"utf-8\"/><title data-react-helmet=\"true\">发现 - 知乎</title><meta content=\"width=device-width,initial-scale=1,maximum-scale=1\" name=\"viewport\"/><meta content=\"webkit\" name=\"renderer\"/><meta content=\"webkit\" name=\"force-rendering\"/><meta content=\"IE=edge,chrome=1\" http-equiv=\"X-UA-Compatible\"/><meta content=\"FTeR0c8arOPKh8c5DYh_9uu98_zJbaWw53J-Sch9MTg\" name=\"google-site-verification\"/></head><body></body></html>\n",
      "<class 'bs4.BeautifulSoup'>\n"
     ]
    }
   ],
   "source": [
    "url = 'https://www.zhihu.com/explore'\n",
    "headers = {'user-agent': 'my-app/0.0.1'}\n",
    "r = requests.get(url,headers=headers)\n",
    "r.encoding = 'utf-8'\n",
    "\n",
    "print(r.text[0:600])\n",
    "soup = BeautifulSoup(r.text[0:600], \"html5lib\")\n",
    "print(soup)\n",
    "\n",
    "print(type(soup))"
   ]
  },
  {
   "cell_type": "markdown",
   "metadata": {},
   "source": [
    "### 3. 觀察一下知乎回來的資料好像有點怪怪的，該怎麼解決？"
   ]
  },
  {
   "cell_type": "code",
   "execution_count": 45,
   "metadata": {},
   "outputs": [
    {
     "name": "stdout",
     "output_type": "stream",
     "text": [
      "<!doctype html>\n",
      "<html lang=\"zh\" data-hairline=\"true\" data-theme=\"light\"><head><meta charSet=\"utf-8\"/><title data-react-helmet=\"true\">发现 - 知乎</title><meta name=\"viewport\" content=\"width=device-width,initial-scale=1,maximum-scale=1\"/><meta name=\"renderer\" content=\"webkit\"/><meta name=\"force-rendering\" content=\"webkit\"/><meta http-equiv=\"X-UA-Compatible\" content=\"IE=edge,chrome=1\"/><meta name=\"google-site-verification\" content=\"FTeR0c8arOPKh8c5DYh_9uu98_zJbaWw53J-Sch9MTg\"/><meta name=\"description\" property=\"og:description\" content=\"有问题，上知乎。知乎，可信赖的问答社区，以让每个人高效获得可信赖的解答为使命。知乎凭借认真、专业和友善的社区氛围，结构化、易获得的\n",
      "<!DOCTYPE html>\n",
      "<html data-hairline=\"true\" data-theme=\"light\" lang=\"zh\"><head><meta charset=\"utf-8\"/><title data-react-helmet=\"true\">发现 - 知乎</title><meta content=\"width=device-width,initial-scale=1,maximum-scale=1\" name=\"viewport\"/><meta content=\"webkit\" name=\"renderer\"/><meta content=\"webkit\" name=\"force-rendering\"/><meta content=\"IE=edge,chrome=1\" http-equiv=\"X-UA-Compatible\"/><meta content=\"FTeR0c8arOPKh8c5DYh_9uu98_zJbaWw53J-Sch9MTg\" name=\"google-site-verification\"/></head><body></body></html>\n"
     ]
    },
    {
     "ename": "NameError",
     "evalue": "name 's' is not defined",
     "output_type": "error",
     "traceback": [
      "\u001b[1;31m---------------------------------------------------------------------------\u001b[0m",
      "\u001b[1;31mNameError\u001b[0m                                 Traceback (most recent call last)",
      "\u001b[1;32m<ipython-input-45-e7e6b6f38763>\u001b[0m in \u001b[0;36m<module>\u001b[1;34m\u001b[0m\n\u001b[0;32m      9\u001b[0m \u001b[0msoup\u001b[0m \u001b[1;33m=\u001b[0m \u001b[0mBeautifulSoup\u001b[0m\u001b[1;33m(\u001b[0m\u001b[0mr\u001b[0m\u001b[1;33m.\u001b[0m\u001b[0mtext\u001b[0m\u001b[1;33m[\u001b[0m\u001b[1;36m0\u001b[0m\u001b[1;33m:\u001b[0m\u001b[1;36m600\u001b[0m\u001b[1;33m]\u001b[0m\u001b[1;33m,\u001b[0m \u001b[1;34m\"html5lib\"\u001b[0m\u001b[1;33m)\u001b[0m\u001b[1;33m\u001b[0m\u001b[1;33m\u001b[0m\u001b[0m\n\u001b[0;32m     10\u001b[0m \u001b[0mprint\u001b[0m\u001b[1;33m(\u001b[0m\u001b[0msoup\u001b[0m\u001b[1;33m)\u001b[0m\u001b[1;33m\u001b[0m\u001b[1;33m\u001b[0m\u001b[0m\n\u001b[1;32m---> 11\u001b[1;33m \u001b[0ms\u001b[0m\u001b[1;33m\u001b[0m\u001b[1;33m\u001b[0m\u001b[0m\n\u001b[0m\u001b[0;32m     12\u001b[0m \u001b[0mprint\u001b[0m\u001b[1;33m(\u001b[0m\u001b[0mtype\u001b[0m\u001b[1;33m(\u001b[0m\u001b[0msoup\u001b[0m\u001b[1;33m)\u001b[0m\u001b[1;33m)\u001b[0m\u001b[1;33m\u001b[0m\u001b[1;33m\u001b[0m\u001b[0m\n",
      "\u001b[1;31mNameError\u001b[0m: name 's' is not defined"
     ]
    }
   ],
   "source": [
    "import requests\n",
    "url = 'https://www.zhihu.com/explore'\n",
    "\n",
    "headers = {'user-agent': 'my-app/0.0.1'}\n",
    "r = requests.get(url,headers=headers)\n",
    "r.encoding = 'utf-8'\n",
    "\n",
    "print(r.text[0:600])\n",
    "soup = BeautifulSoup(r.text[0:600], \"html5lib\")\n",
    "print(soup)\n",
    "s\n",
    "print(type(soup))"
   ]
  },
  {
   "cell_type": "code",
   "execution_count": null,
   "metadata": {},
   "outputs": [],
   "source": []
  },
  {
   "cell_type": "code",
   "execution_count": null,
   "metadata": {},
   "outputs": [],
   "source": []
  }
 ],
 "metadata": {
  "kernelspec": {
   "display_name": "Python 3",
   "language": "python",
   "name": "python3"
  },
  "language_info": {
   "codemirror_mode": {
    "name": "ipython",
    "version": 3
   },
   "file_extension": ".py",
   "mimetype": "text/x-python",
   "name": "python",
   "nbconvert_exporter": "python",
   "pygments_lexer": "ipython3",
   "version": "3.7.4"
  }
 },
 "nbformat": 4,
 "nbformat_minor": 2
}
