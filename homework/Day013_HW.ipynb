{
 "cells": [
  {
   "cell_type": "markdown",
   "metadata": {},
   "source": [
    "# PTT 網路爬蟲實作練習\n",
    "\n",
    "\n",
    "* 能夠利用 Request + BeatifulSour 撰寫爬蟲，並存放到合適的資料結構\n"
   ]
  },
  {
   "cell_type": "markdown",
   "metadata": {},
   "source": [
    "## 作業目標\n",
    "\n",
    "根據範例 ，完成以下問題：\n",
    "\n",
    "* ① 印出最新文章的「作者」「標題」「時間」\n",
    "* ② 印出第一頁所有文章的「作者」「標題」「時間」\n"
   ]
  },
  {
   "cell_type": "markdown",
   "metadata": {},
   "source": [
    "### ① 印出最新文章的「作者」「標題」「時間」"
   ]
  },
  {
   "cell_type": "code",
   "execution_count": 29,
   "metadata": {},
   "outputs": [
    {
     "name": "stdout",
     "output_type": "stream",
     "text": [
      "[花邊] Kobe曾將Pierce奪冠照片放在皮包激勵自己\n",
      "作者: Myosotis (・8・)\n",
      "[情報] LBJ 考慮分析自己生涯的難忘時刻跟比賽\n",
      "作者: thnlkj0665 (灰色地帶)\n",
      "[討論] NBA 在YT靠重播賽事可以回本多少？\n",
      "作者: andy880913 (相良醫生)\n",
      "[新聞] 籃網總管傳來佳音 染疫4人已無症狀\n",
      "作者: takechance (dfs)\n",
      "[花邊] 尼克楊：建議政府把不隔離的人刪IG帳號\n",
      "作者: Yui5 (唯控)\n",
      "[新聞] 誰是暴龍隊史一哥 德羅展：席亞康將超越羅\n",
      "作者: Gotham (萬惡之城)\n",
      "[公告] 板規v6.8\n",
      "[公告] 版主上任相關事項 \n",
      "作者: qazwsx879345 (Rajon Rondo)\n",
      "[情報] SEASON Schedule 賽程 March 19–20\n",
      "作者: Acetoxy (阿斯)\n",
      "[公告] 第一次被退文，可在三天後刪除退文\n",
      "作者: Vedan (味丹)\n"
     ]
    }
   ],
   "source": [
    "import requests\n",
    "from bs4 import BeautifulSoup\n",
    "\n",
    "url = 'https://www.ptt.cc/bbs/NBA/index.html'\n",
    "r = requests.get(url)\n",
    "\n",
    "soup = BeautifulSoup(r.text, \"html5lib\")\n",
    "\n",
    "for d in soup.find_all(class_=\"title\"):\n",
    "    print(d.text.replace('\\t', '').replace('\\n', ''))\n",
    "    try:\n",
    "        r = BeautifulSoup(requests.get('https://www.ptt.cc'+d.find('a')['href']).text, \"html5lib\")\n",
    "        print('作者: ' + r.find(class_='article-meta-value').text)\n",
    "    except:\n",
    "        continue\n"
   ]
  },
  {
   "cell_type": "markdown",
   "metadata": {},
   "source": [
    "### ② 印出第一頁所有文章的「作者」「標題」「時間」"
   ]
  },
  {
   "cell_type": "code",
   "execution_count": 32,
   "metadata": {},
   "outputs": [
    {
     "name": "stdout",
     "output_type": "stream",
     "text": [
      "作者:Myosotis (・8・)\n",
      "標題:[花邊] Kobe曾將Pierce奪冠照片放在皮包激勵自己\n",
      "時間:Thu Apr  2 17:29:55 2020\n",
      "作者:thnlkj0665 (灰色地帶)\n",
      "標題:[情報] LBJ 考慮分析自己生涯的難忘時刻跟比賽\n",
      "時間:Thu Apr  2 19:26:21 2020\n",
      "作者:andy880913 (相良醫生)\n",
      "標題:[討論] NBA 在YT靠重播賽事可以回本多少？\n",
      "時間:Thu Apr  2 20:14:12 2020\n",
      "作者:takechance (dfs)\n",
      "標題:[新聞] 籃網總管傳來佳音 染疫4人已無症狀\n",
      "時間:Thu Apr  2 21:04:28 2020\n",
      "作者:Yui5 (唯控)\n",
      "標題:[花邊] 尼克楊：建議政府把不隔離的人刪IG帳號\n",
      "時間:Thu Apr  2 22:59:27 2020\n",
      "作者:Gotham (萬惡之城)\n",
      "標題:[新聞] 誰是暴龍隊史一哥 德羅展：席亞康將超越羅\n",
      "時間:Thu Apr  2 23:55:10 2020\n",
      "作者:qazwsx879345 (Rajon Rondo)\n",
      "標題:[公告] 版主上任相關事項\n",
      "時間:Fri Oct 25 10:44:03 2019\n",
      "作者:Acetoxy (阿斯)\n",
      "標題:[情報] SEASON Schedule 賽程 March 19–20\n",
      "時間:Mon Mar  2 01:19:40 2020\n",
      "作者:Vedan (味丹)\n",
      "標題:[公告] 第一次被退文，可在三天後刪除退文\n",
      "時間:Mon Mar  9 11:44:26 2020\n"
     ]
    }
   ],
   "source": [
    "import requests\n",
    "from bs4 import BeautifulSoup\n",
    "\n",
    "url = 'https://www.ptt.cc/bbs/NBA/index.html'\n",
    "r = requests.get(url)\n",
    "\n",
    "soup = BeautifulSoup(r.text, \"html5lib\")\n",
    "\n",
    "for d in soup.find_all(class_=\"title\"):\n",
    "    try:\n",
    "        r = BeautifulSoup(requests.get('https://www.ptt.cc'+d.find('a')['href']).text, \"html5lib\")\n",
    "        for q in r.find_all(class_=\"article-metaline\"):\n",
    "            print(q.find(class_='article-meta-tag').text +':'+q.find(class_='article-meta-value').text)\n",
    "    except:\n",
    "        continue\n"
   ]
  },
  {
   "cell_type": "markdown",
   "metadata": {},
   "source": [
    "### ③ 試著爬爬看其他版的文章"
   ]
  },
  {
   "cell_type": "code",
   "execution_count": 34,
   "metadata": {},
   "outputs": [
    {
     "name": "stdout",
     "output_type": "stream",
     "text": [
      "作者:JasperChang (PeterChou)\n",
      "標題:Re: [請益] 大三抉擇工作與讀碩\n",
      "時間:Wed Apr  1 17:24:59 2020\n",
      "作者:kc092444 (Sana我老婆)\n",
      "標題:[討論] William lin是誰\n",
      "時間:Wed Apr  1 17:28:58 2020\n",
      "作者:oToToT (屁孩)\n",
      "標題:Re: [討論] William lin是誰\n",
      "時間:Wed Apr  1 22:17:13 2020\n",
      "作者:oscarchichun (ㄍ一)\n",
      "標題:[徵文] CTF (Catch The Flag)\n",
      "時間:Wed Apr  1 23:18:12 2020\n",
      "作者:qazwsx99876 (茸茸)\n",
      "標題:[請益] 工作後猶豫回學校拿資工碩士學歷\n",
      "時間:Wed Apr  1 23:55:40 2020\n",
      "作者:keke0421 (zrae)\n",
      "標題:Re: [請益] 各位是如何增進英文能力\n",
      "時間:Wed Apr  1 23:55:57 2020\n",
      "作者:pichubaby (Pichu Chen)\n",
      "標題:[徵文] 東京都新冠肺炎對策網站開源參與經驗\n",
      "時間:Thu Apr  2 03:51:52 2020\n",
      "作者:tall15421542 (tall15421542)\n",
      "標題:[軟體分享] Hazelcast Jet open source\n",
      "時間:Thu Apr  2 19:33:19 2020\n",
      "作者:MOONY135 (談無慾)\n",
      "標題:[公告] 2016年1月1日 新板規上路! 新年快樂\n",
      "時間:Fri Aug  4 14:18:53 2017\n",
      "作者:MOONY135 (談無慾)\n",
      "標題:[公告] 徵才不符板規或徵才自刪公司\n",
      "時間:Fri Aug  4 14:21:30 2017\n",
      "作者:MOONY135 (談無慾)\n",
      "標題:[情報] 訓練課程與付費APP與網站分享\n",
      "時間:Fri Aug  4 19:49:16 2017\n",
      "作者:MOONY135 (談無慾)\n",
      "標題:社群活動與免費APP與網站分享\n",
      "時間:Fri Aug  4 19:50:43 2017\n",
      "作者:s89227 (Kei)\n",
      "標題:[公告] 3/23~4/6 技術與實務經驗 徵文活動\n",
      "時間:Thu Mar 12 20:13:48 2020\n"
     ]
    }
   ],
   "source": [
    "#綜合版\n",
    "import requests\n",
    "from bs4 import BeautifulSoup\n",
    "\n",
    "url = 'https://www.ptt.cc/bbs/Soft_Job/index.html'\n",
    "r = requests.get(url)\n",
    "\n",
    "soup = BeautifulSoup(r.text, \"html5lib\")\n",
    "\n",
    "for d in soup.find_all(class_=\"title\"):\n",
    "    try:\n",
    "        r = BeautifulSoup(requests.get('https://www.ptt.cc'+d.find('a')['href']).text, \"html5lib\")\n",
    "        for q in r.find_all(class_=\"article-metaline\"):\n",
    "            print(q.find(class_='article-meta-tag').text +':'+q.find(class_='article-meta-value').text)\n",
    "    except:\n",
    "        continue"
   ]
  },
  {
   "cell_type": "code",
   "execution_count": null,
   "metadata": {},
   "outputs": [],
   "source": []
  }
 ],
 "metadata": {
  "kernelspec": {
   "display_name": "Python 3",
   "language": "python",
   "name": "python3"
  },
  "language_info": {
   "codemirror_mode": {
    "name": "ipython",
    "version": 3
   },
   "file_extension": ".py",
   "mimetype": "text/x-python",
   "name": "python",
   "nbconvert_exporter": "python",
   "pygments_lexer": "ipython3",
   "version": "3.7.4"
  }
 },
 "nbformat": 4,
 "nbformat_minor": 2
}
